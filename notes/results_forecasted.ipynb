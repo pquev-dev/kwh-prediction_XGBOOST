{
 "cells": [
  {
   "cell_type": "code",
   "execution_count": 17,
   "metadata": {},
   "outputs": [],
   "source": [
    "import pandas as pd\n",
    "import numpy as np\n",
    "import matplotlib.pyplot as plt\n",
    "import seaborn as sns \n",
    "import plotly.express as px"
   ]
  },
  {
   "cell_type": "code",
   "execution_count": 6,
   "metadata": {},
   "outputs": [],
   "source": [
    "##load csv \n",
    "df_real = pd.read_csv(\"../../../datasets/mediciones.csv\",sep=';')\n",
    "df_real = df_real.query(\"id_medidor==439950\")\n",
    "df = pd.read_csv(\"../results/data_forecasted.csv\")"
   ]
  },
  {
   "cell_type": "code",
   "execution_count": 7,
   "metadata": {},
   "outputs": [
    {
     "data": {
      "text/html": [
       "<div>\n",
       "<style scoped>\n",
       "    .dataframe tbody tr th:only-of-type {\n",
       "        vertical-align: middle;\n",
       "    }\n",
       "\n",
       "    .dataframe tbody tr th {\n",
       "        vertical-align: top;\n",
       "    }\n",
       "\n",
       "    .dataframe thead th {\n",
       "        text-align: right;\n",
       "    }\n",
       "</style>\n",
       "<table border=\"1\" class=\"dataframe\">\n",
       "  <thead>\n",
       "    <tr style=\"text-align: right;\">\n",
       "      <th></th>\n",
       "      <th>Unnamed: 0</th>\n",
       "      <th>id_medidor</th>\n",
       "      <th>date</th>\n",
       "      <th>Consumo</th>\n",
       "      <th>Consumo Reactivo</th>\n",
       "    </tr>\n",
       "  </thead>\n",
       "  <tbody>\n",
       "    <tr>\n",
       "      <th>0</th>\n",
       "      <td>0</td>\n",
       "      <td>439950</td>\n",
       "      <td>2020-02-01 00:15:00</td>\n",
       "      <td>466.352230</td>\n",
       "      <td>21.632</td>\n",
       "    </tr>\n",
       "    <tr>\n",
       "      <th>1</th>\n",
       "      <td>1</td>\n",
       "      <td>439950</td>\n",
       "      <td>2020-02-01 00:30:00</td>\n",
       "      <td>463.451780</td>\n",
       "      <td>20.944</td>\n",
       "    </tr>\n",
       "    <tr>\n",
       "      <th>2</th>\n",
       "      <td>2</td>\n",
       "      <td>439950</td>\n",
       "      <td>2020-02-01 00:45:00</td>\n",
       "      <td>461.775270</td>\n",
       "      <td>20.830</td>\n",
       "    </tr>\n",
       "    <tr>\n",
       "      <th>3</th>\n",
       "      <td>3</td>\n",
       "      <td>439950</td>\n",
       "      <td>2020-02-01 01:00:00</td>\n",
       "      <td>462.097530</td>\n",
       "      <td>21.186</td>\n",
       "    </tr>\n",
       "    <tr>\n",
       "      <th>4</th>\n",
       "      <td>4</td>\n",
       "      <td>439950</td>\n",
       "      <td>2020-02-01 01:15:00</td>\n",
       "      <td>460.127720</td>\n",
       "      <td>21.273</td>\n",
       "    </tr>\n",
       "    <tr>\n",
       "      <th>...</th>\n",
       "      <td>...</td>\n",
       "      <td>...</td>\n",
       "      <td>...</td>\n",
       "      <td>...</td>\n",
       "      <td>...</td>\n",
       "    </tr>\n",
       "    <tr>\n",
       "      <th>67202</th>\n",
       "      <td>67202</td>\n",
       "      <td>439950</td>\n",
       "      <td>2021-01-02 23:00:00</td>\n",
       "      <td>118.658005</td>\n",
       "      <td>NaN</td>\n",
       "    </tr>\n",
       "    <tr>\n",
       "      <th>67203</th>\n",
       "      <td>67203</td>\n",
       "      <td>439950</td>\n",
       "      <td>2021-01-02 23:15:00</td>\n",
       "      <td>117.040140</td>\n",
       "      <td>NaN</td>\n",
       "    </tr>\n",
       "    <tr>\n",
       "      <th>67204</th>\n",
       "      <td>67204</td>\n",
       "      <td>439950</td>\n",
       "      <td>2021-01-02 23:30:00</td>\n",
       "      <td>117.152380</td>\n",
       "      <td>NaN</td>\n",
       "    </tr>\n",
       "    <tr>\n",
       "      <th>67205</th>\n",
       "      <td>67205</td>\n",
       "      <td>439950</td>\n",
       "      <td>2021-01-02 23:45:00</td>\n",
       "      <td>118.480576</td>\n",
       "      <td>NaN</td>\n",
       "    </tr>\n",
       "    <tr>\n",
       "      <th>67206</th>\n",
       "      <td>67206</td>\n",
       "      <td>439950</td>\n",
       "      <td>2021-01-03 00:00:00</td>\n",
       "      <td>116.826490</td>\n",
       "      <td>NaN</td>\n",
       "    </tr>\n",
       "  </tbody>\n",
       "</table>\n",
       "<p>67207 rows × 5 columns</p>\n",
       "</div>"
      ],
      "text/plain": [
       "       Unnamed: 0  id_medidor                 date     Consumo  \\\n",
       "0               0      439950  2020-02-01 00:15:00  466.352230   \n",
       "1               1      439950  2020-02-01 00:30:00  463.451780   \n",
       "2               2      439950  2020-02-01 00:45:00  461.775270   \n",
       "3               3      439950  2020-02-01 01:00:00  462.097530   \n",
       "4               4      439950  2020-02-01 01:15:00  460.127720   \n",
       "...           ...         ...                  ...         ...   \n",
       "67202       67202      439950  2021-01-02 23:00:00  118.658005   \n",
       "67203       67203      439950  2021-01-02 23:15:00  117.040140   \n",
       "67204       67204      439950  2021-01-02 23:30:00  117.152380   \n",
       "67205       67205      439950  2021-01-02 23:45:00  118.480576   \n",
       "67206       67206      439950  2021-01-03 00:00:00  116.826490   \n",
       "\n",
       "       Consumo Reactivo  \n",
       "0                21.632  \n",
       "1                20.944  \n",
       "2                20.830  \n",
       "3                21.186  \n",
       "4                21.273  \n",
       "...                 ...  \n",
       "67202               NaN  \n",
       "67203               NaN  \n",
       "67204               NaN  \n",
       "67205               NaN  \n",
       "67206               NaN  \n",
       "\n",
       "[67207 rows x 5 columns]"
      ]
     },
     "execution_count": 7,
     "metadata": {},
     "output_type": "execute_result"
    }
   ],
   "source": [
    "df_real"
   ]
  },
  {
   "cell_type": "code",
   "execution_count": 11,
   "metadata": {},
   "outputs": [],
   "source": [
    "def change_format_date(data,type='H'):\n",
    "    if type=='H':\n",
    "        data['new_date'] = data['date'].dt.floor('H')\n",
    "        new_frecuency = data.groupby(['new_date']).agg(\n",
    "                kWh = ('Consumo','sum'),\n",
    "                kW = ('Consumo','max')\n",
    "        ).reset_index()\n",
    "    return new_frecuency"
   ]
  },
  {
   "cell_type": "code",
   "execution_count": 13,
   "metadata": {},
   "outputs": [],
   "source": [
    "df_real['date'] = pd.to_datetime(df_real['date'])"
   ]
  },
  {
   "cell_type": "code",
   "execution_count": 14,
   "metadata": {},
   "outputs": [
    {
     "data": {
      "text/html": [
       "<div>\n",
       "<style scoped>\n",
       "    .dataframe tbody tr th:only-of-type {\n",
       "        vertical-align: middle;\n",
       "    }\n",
       "\n",
       "    .dataframe tbody tr th {\n",
       "        vertical-align: top;\n",
       "    }\n",
       "\n",
       "    .dataframe thead th {\n",
       "        text-align: right;\n",
       "    }\n",
       "</style>\n",
       "<table border=\"1\" class=\"dataframe\">\n",
       "  <thead>\n",
       "    <tr style=\"text-align: right;\">\n",
       "      <th></th>\n",
       "      <th>new_date</th>\n",
       "      <th>kWh</th>\n",
       "      <th>kW</th>\n",
       "    </tr>\n",
       "  </thead>\n",
       "  <tbody>\n",
       "    <tr>\n",
       "      <th>0</th>\n",
       "      <td>2020-01-01 00:00:00</td>\n",
       "      <td>466.605700</td>\n",
       "      <td>117.276955</td>\n",
       "    </tr>\n",
       "    <tr>\n",
       "      <th>1</th>\n",
       "      <td>2020-01-01 01:00:00</td>\n",
       "      <td>459.570084</td>\n",
       "      <td>115.484550</td>\n",
       "    </tr>\n",
       "    <tr>\n",
       "      <th>2</th>\n",
       "      <td>2020-01-01 02:00:00</td>\n",
       "      <td>463.111413</td>\n",
       "      <td>116.578094</td>\n",
       "    </tr>\n",
       "    <tr>\n",
       "      <th>3</th>\n",
       "      <td>2020-01-01 03:00:00</td>\n",
       "      <td>459.425244</td>\n",
       "      <td>116.491196</td>\n",
       "    </tr>\n",
       "    <tr>\n",
       "      <th>4</th>\n",
       "      <td>2020-01-01 04:00:00</td>\n",
       "      <td>460.703461</td>\n",
       "      <td>116.686720</td>\n",
       "    </tr>\n",
       "  </tbody>\n",
       "</table>\n",
       "</div>"
      ],
      "text/plain": [
       "             new_date         kWh          kW\n",
       "0 2020-01-01 00:00:00  466.605700  117.276955\n",
       "1 2020-01-01 01:00:00  459.570084  115.484550\n",
       "2 2020-01-01 02:00:00  463.111413  116.578094\n",
       "3 2020-01-01 03:00:00  459.425244  116.491196\n",
       "4 2020-01-01 04:00:00  460.703461  116.686720"
      ]
     },
     "execution_count": 14,
     "metadata": {},
     "output_type": "execute_result"
    }
   ],
   "source": [
    "df_real = change_format_date(df_real)\n",
    "df_real.head()"
   ]
  },
  {
   "cell_type": "code",
   "execution_count": 16,
   "metadata": {},
   "outputs": [],
   "source": [
    "#sort values \n",
    "df_real = df_real.sort_values(\"new_date\")"
   ]
  },
  {
   "cell_type": "code",
   "execution_count": 24,
   "metadata": {},
   "outputs": [],
   "source": [
    "df_real['tipo'] = \"real\"\n",
    "df['tipo'] = \"forecasted\""
   ]
  },
  {
   "cell_type": "code",
   "execution_count": 32,
   "metadata": {},
   "outputs": [],
   "source": [
    "df_real = df_real.rename(columns={\n",
    "    'new_date' : 'date'\n",
    "})\n",
    "\n",
    "df = df.rename(columns={\n",
    "    'predict' : 'kWh'\n",
    "})"
   ]
  },
  {
   "cell_type": "code",
   "execution_count": 35,
   "metadata": {},
   "outputs": [],
   "source": [
    "df_real = df_real[['date','kWh','tipo']]\n",
    "df = df[['date','kWh','tipo']]"
   ]
  },
  {
   "cell_type": "code",
   "execution_count": 37,
   "metadata": {},
   "outputs": [],
   "source": [
    "all_data = pd.concat([df_real,df],axis=0).reset_index()"
   ]
  },
  {
   "cell_type": "code",
   "execution_count": 49,
   "metadata": {},
   "outputs": [
    {
     "data": {
      "text/plain": [
       "<Axes: xlabel='date', ylabel='kWh'>"
      ]
     },
     "execution_count": 49,
     "metadata": {},
     "output_type": "execute_result"
    },
    {
     "data": {
      "image/png": "[encoded data removed]",
      "text/plain": [
       "<Figure size 1000x500 with 1 Axes>"
      ]
     },
     "metadata": {},
     "output_type": "display_data"
    }
   ],
   "source": [
    "\n",
    "sns.set_theme(style=\"darkgrid\")\n",
    "plt.figure(figsize=(10,5))\n",
    "sns.lineplot(all_data,x='date',y='kWh',hue='tipo')"
   ]
  },
  {
   "cell_type": "code",
   "execution_count": null,
   "metadata": {},
   "outputs": [],
   "source": []
  }
 ],
 "metadata": {
  "kernelspec": {
   "display_name": "desarrollos",
   "language": "python",
   "name": "python3"
  },
  "language_info": {
   "codemirror_mode": {
    "name": "ipython",
    "version": 3
   },
   "file_extension": ".py",
   "mimetype": "text/x-python",
   "name": "python",
   "nbconvert_exporter": "python",
   "pygments_lexer": "ipython3",
   "version": "3.11.4"
  },
  "orig_nbformat": 4
 },
 "nbformat": 4,
 "nbformat_minor": 2
}
